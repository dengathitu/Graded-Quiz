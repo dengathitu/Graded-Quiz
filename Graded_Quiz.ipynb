{
  "nbformat": 4,
  "nbformat_minor": 0,
  "metadata": {
    "colab": {
      "provenance": [],
      "authorship_tag": "ABX9TyN/lKxG3pTFSz45LUrvUbmH",
      "include_colab_link": true
    },
    "kernelspec": {
      "name": "python3",
      "display_name": "Python 3"
    },
    "language_info": {
      "name": "python"
    }
  },
  "cells": [
    {
      "cell_type": "markdown",
      "metadata": {
        "id": "view-in-github",
        "colab_type": "text"
      },
      "source": [
        "<a href=\"https://colab.research.google.com/github/dengathitu/Graded-Quiz/blob/main/Graded_Quiz.ipynb\" target=\"_parent\"><img src=\"https://colab.research.google.com/assets/colab-badge.svg\" alt=\"Open In Colab\"/></a>"
      ]
    },
    {
      "cell_type": "markdown",
      "source": [
        "# Question 1\n",
        "What is the output of the following code?"
      ],
      "metadata": {
        "id": "vM8OU81HWJdU"
      }
    },
    {
      "cell_type": "code",
      "execution_count": 13,
      "metadata": {
        "colab": {
          "base_uri": "https://localhost:8080/"
        },
        "id": "68g-gjpMTZiC",
        "outputId": "99a02ade-9d56-4140-cfbf-fd2094fe1980"
      },
      "outputs": [
        {
          "output_type": "stream",
          "name": "stdout",
          "text": [
            "Go\n",
            "Mike\n"
          ]
        }
      ],
      "source": [
        "x = \"Go\"\n",
        "if x == \"Go\":\n",
        "    print('Go')\n",
        "else:\n",
        "    print('Stop')\n",
        "print('Mike')"
      ]
    },
    {
      "cell_type": "markdown",
      "source": [
        "# Question 2\n",
        "\n",
        "Which of the following is the value of x after the following lines of code?"
      ],
      "metadata": {
        "id": "odyZnojeT0KC"
      }
    },
    {
      "cell_type": "code",
      "source": [
        "x = 1\n",
        "x = x > 5\n",
        "print(x)"
      ],
      "metadata": {
        "colab": {
          "base_uri": "https://localhost:8080/"
        },
        "id": "xwcXvFo4TyBK",
        "outputId": "e62484ca-46cd-498a-ff13-dedf200187df"
      },
      "execution_count": 14,
      "outputs": [
        {
          "output_type": "stream",
          "name": "stdout",
          "text": [
            "False\n"
          ]
        }
      ]
    },
    {
      "cell_type": "markdown",
      "source": [
        "# Question 3\n",
        "\n",
        "What is the output of the following few lines of code?"
      ],
      "metadata": {
        "id": "wzXXiaHcUMx3"
      }
    },
    {
      "cell_type": "code",
      "source": [
        "x = 5\n",
        "while x != 2:\n",
        "    print(x)\n",
        "    x = x - 1"
      ],
      "metadata": {
        "colab": {
          "base_uri": "https://localhost:8080/"
        },
        "id": "q0sv2r3mUUVE",
        "outputId": "4c2324c8-925b-440a-a826-739ae2700ba7"
      },
      "execution_count": 15,
      "outputs": [
        {
          "output_type": "stream",
          "name": "stdout",
          "text": [
            "5\n",
            "4\n",
            "3\n"
          ]
        }
      ]
    },
    {
      "cell_type": "markdown",
      "source": [
        "# Question 4\n",
        "\n",
        "What is the result of running the following lines of code?"
      ],
      "metadata": {
        "id": "Q5sELqQyVECy"
      }
    },
    {
      "cell_type": "code",
      "source": [
        "class Points(object):\n",
        "    def __init__(self, x, y):\n",
        "        self.x = x\n",
        "        self.y = y\n",
        "\n",
        "\n",
        "    def print_point(self):\n",
        "        print('x=', self.x, ' y=', self.y)\n",
        "\n",
        "\n",
        "p1 = Points(\"A\", \"B\")\n",
        "p1.print_point()"
      ],
      "metadata": {
        "colab": {
          "base_uri": "https://localhost:8080/"
        },
        "id": "avg88XnZUihc",
        "outputId": "f4a396e7-1dce-4d72-bc3e-b4c8502db16d"
      },
      "execution_count": 16,
      "outputs": [
        {
          "output_type": "stream",
          "name": "stdout",
          "text": [
            "x= A  y= B\n"
          ]
        }
      ]
    },
    {
      "cell_type": "markdown",
      "source": [
        "# Question 5\n",
        "What is the output of the following few lines of code?"
      ],
      "metadata": {
        "id": "XNTZtrcZV22p"
      }
    },
    {
      "cell_type": "code",
      "source": [
        "for i, x in enumerate(['A', 'B', 'C']):\n",
        "    print(i + 1, x)"
      ],
      "metadata": {
        "colab": {
          "base_uri": "https://localhost:8080/"
        },
        "id": "vHSWecHzVe6M",
        "outputId": "9223b362-f5cc-4bd9-c6ec-c1b6ce747948"
      },
      "execution_count": 17,
      "outputs": [
        {
          "output_type": "stream",
          "name": "stdout",
          "text": [
            "1 A\n",
            "2 B\n",
            "3 C\n"
          ]
        }
      ]
    },
    {
      "cell_type": "markdown",
      "source": [
        "# Question 6\n",
        "What is the result of running the following lines of code?"
      ],
      "metadata": {
        "id": "6xBjWFcEWsdU"
      }
    },
    {
      "cell_type": "code",
      "source": [
        "class Points(object):\n",
        "    def __init__(self, x, y):\n",
        "        self.x = x\n",
        "        self.y = y\n",
        "    def print_point(self):\n",
        "        print('x=', self.x, ' y=', self.y)\n",
        "\n",
        "\n",
        "p2 = Points(1, 2)\n",
        "p2.x = 2\n",
        "p2.print_point()"
      ],
      "metadata": {
        "colab": {
          "base_uri": "https://localhost:8080/"
        },
        "id": "hA6aReP6Wbxg",
        "outputId": "e2bc4701-784c-484f-939d-c9ee45dbcbac"
      },
      "execution_count": 18,
      "outputs": [
        {
          "output_type": "stream",
          "name": "stdout",
          "text": [
            "x= 2  y= 2\n"
          ]
        }
      ]
    },
    {
      "cell_type": "markdown",
      "source": [
        "# Question 7\n",
        "Considering the function delta, when will the following function return a value of 1?"
      ],
      "metadata": {
        "id": "UTI3SnvPXSz3"
      }
    },
    {
      "cell_type": "code",
      "source": [
        "def delta(x):\n",
        "    if x == 0:\n",
        "        y = 1\n",
        "    else:\n",
        "        y = 0\n",
        "    return y"
      ],
      "metadata": {
        "id": "kwrsp7pDXakq"
      },
      "execution_count": 19,
      "outputs": []
    },
    {
      "cell_type": "markdown",
      "source": [
        "When the input is 1"
      ],
      "metadata": {
        "id": "Ur93il2mX3nM"
      }
    },
    {
      "cell_type": "markdown",
      "source": [
        "# Question 8\n",
        "What is the output of the following line of code?"
      ],
      "metadata": {
        "id": "44VBktL7XxRP"
      }
    },
    {
      "cell_type": "code",
      "source": [
        " a = 1\n",
        "def do(x):\n",
        "    a = 100\n",
        "    return x + a\n",
        "\n",
        "\n",
        "print(do(1))"
      ],
      "metadata": {
        "colab": {
          "base_uri": "https://localhost:8080/"
        },
        "id": "FZym6oB_YD6-",
        "outputId": "288ca9ff-e788-40b8-a40a-330aea3e5e3e"
      },
      "execution_count": 20,
      "outputs": [
        {
          "output_type": "stream",
          "name": "stdout",
          "text": [
            "101\n"
          ]
        }
      ]
    },
    {
      "cell_type": "markdown",
      "source": [
        "# Question 9\n",
        "Consider the following code:"
      ],
      "metadata": {
        "id": "brYVtRAYYxZj"
      }
    },
    {
      "cell_type": "code",
      "source": [
        "try:\n",
        "    numerator = 10\n",
        "    denominator = 0\n",
        "    result = numerator / denominator\n",
        "    print(result)\n",
        "except ZeroDivisionError:\n",
        "    print(\"Error: Denominator cannot be 0.\")"
      ],
      "metadata": {
        "colab": {
          "base_uri": "https://localhost:8080/"
        },
        "id": "OuvwvfzqY7bT",
        "outputId": "d7c12541-7c2b-489b-b1e3-d76862d531e3"
      },
      "execution_count": 21,
      "outputs": [
        {
          "output_type": "stream",
          "name": "stdout",
          "text": [
            "Error: Denominator cannot be 0.\n"
          ]
        }
      ]
    }
  ]
}